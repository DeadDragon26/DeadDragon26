{
  "nbformat": 4,
  "nbformat_minor": 0,
  "metadata": {
    "colab": {
      "provenance": [],
      "authorship_tag": "ABX9TyNgNy624aQUdmtLzStST8cd",
      "include_colab_link": true
    },
    "kernelspec": {
      "name": "python3",
      "display_name": "Python 3"
    },
    "language_info": {
      "name": "python"
    }
  },
  "cells": [
    {
      "cell_type": "markdown",
      "metadata": {
        "id": "view-in-github",
        "colab_type": "text"
      },
      "source": [
        "<a href=\"https://colab.research.google.com/github/DeadDragon26/DeadDragon26/blob/main/LogReg.ipynb\" target=\"_parent\"><img src=\"https://colab.research.google.com/assets/colab-badge.svg\" alt=\"Open In Colab\"/></a>"
      ]
    },
    {
      "cell_type": "code",
      "execution_count": null,
      "metadata": {
        "id": "x2UEamUwZt-n"
      },
      "outputs": [],
      "source": []
    },
    {
      "cell_type": "code",
      "source": [
        "\n"
      ],
      "metadata": {
        "colab": {
          "base_uri": "https://localhost:8080/"
        },
        "id": "F6nmmsgYj3vh",
        "outputId": "83ef73f6-0d7e-43a8-c40f-c6e346760928"
      },
      "execution_count": null,
      "outputs": [
        {
          "output_type": "stream",
          "name": "stdout",
          "text": [
            "Accuracy is 0.5616302186878728\n",
            "MSE IS  0.4383697813121272\n"
          ]
        }
      ]
    },
    {
      "cell_type": "code",
      "source": [
        "from sklearn.model_selection import train_test_split\n",
        "from sklearn.preprocessing import StandardScaler\n",
        "from sklearn.linear_model import LogisticRegression\n",
        "from sklearn.metrics import accuracy_score, confusion_matrix,mean_squared_error\n",
        "import numpy as np\n",
        "import matplotlib.pyplot as plt\n",
        "import seaborn as sns\n",
        "import pandas as pd\n",
        "\n",
        "data = pd.read_csv(\"/content/Salary_Data (1).csv\")\n",
        "pd.DataFrame(data)\n",
        "data['Gender']=data['Gender'].map({'Male':0,'Female':1})\n",
        "x=data[['Years of Experience','Salary']]\n",
        "y=data['Gender']\n",
        "\n",
        "X_train, X_test, y_train, y_test = train_test_split(x,y, test_size=0.3, random_state=42)\n",
        "scaler = StandardScaler()\n",
        "X_train_scaled = scaler.fit_transform(X_train)\n",
        "X_test_scaled = scaler.transform(X_test)\n",
        "model = LogisticRegression()\n",
        "\n",
        "X_train_scaled = np.nan_to_num(X_train_scaled)\n",
        "y_train = np.nan_to_num(y_train)\n",
        "X_test_scaled = np.nan_to_num(X_test_scaled)\n",
        "y_test = np.nan_to_num(y_test)\n",
        "\n",
        "model.fit(X_train_scaled, y_train)\n",
        "y_pred = model.predict(X_test_scaled)\n",
        "Accuracy = accuracy_score(y_test, y_pred)\n",
        "print(\"Accuracy is\", Accuracy)\n",
        "mse = mean_squared_error(y_test, y_pred)\n",
        "print(\"MSE IS \",  mse)\n",
        "\n",
        "\n",
        "x_min, x_max = x['Years of Experience'].min() - 1, x['Years of Experience'].max() + 1\n",
        "y_min, y_max = x['Salary'].min() - 1, x['Salary'].max() + 1\n",
        "\n",
        "xx, yy = np.meshgrid(np.arange(x_min, x_max, 0.1), np.arange(y_min, y_max, 0.1))\n",
        "\n",
        "Z = model.predict(scaler.transform(np.c_[xx.ravel(), yy.ravel()]))\n",
        "Z = Z.reshape(xx.shape)\n",
        "\n",
        "plt.figure(figsize=(10, 8))\n",
        "sns.scatterplot(x='Years of Experience', y = 'Salary', hue= 'Gender', data=data)\n",
        "plt.title('Scatter plot')\n",
        "plt.show()\n",
        "conf_matrix = confusion_matrix(y_test, y_pred)\n",
        "plt.contourf(xx, yy, Z, alpha=0.4)\n",
        "plt.figure(figsize=(6,4))\n",
        "sns.heatmap(conf_matrix, annot=True, fmt=\"d\", cmap=\"Blues\", cbar=False)\n",
        "\n",
        "plt.show()\n"
      ],
      "metadata": {
        "colab": {
          "base_uri": "https://localhost:8080/"
        },
        "id": "UOV3ZKgUusol",
        "outputId": "15062db7-f0f6-4d11-9756-31d2abfd407c"
      },
      "execution_count": null,
      "outputs": [
        {
          "output_type": "stream",
          "name": "stdout",
          "text": [
            "Accuracy is 0.5616302186878728\n",
            "MSE IS  0.4383697813121272\n"
          ]
        }
      ]
    }
  ]
}